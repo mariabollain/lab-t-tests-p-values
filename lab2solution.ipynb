{
 "cells": [
  {
   "cell_type": "markdown",
   "id": "c394966e",
   "metadata": {},
   "source": [
    "## Instructions\n",
    "We will have another simple example on two sample t test (pooled- when the variances are equal). But this time this is a one sided t-test. <br>\n",
    "In a packing plant, a machine packs cartons with jars. It is supposed that a new machine will pack faster on the average than the machine currently used. To test that hypothesis, the times it takes each machine to pack ten cartons are recorded. The results, in seconds, are shown in the tables in the file files_for_lab/machine.txt. Assume that there is sufficient evidence to conduct the t test, does the data provide sufficient evidence to show if one machine is better than the other.\n"
   ]
  },
  {
   "cell_type": "markdown",
   "id": "90b34e10",
   "metadata": {},
   "source": [
    "## Solution\n",
    "- Null hypothesis: the average packing speed of the new machine is equal or lower to the one of the machine currently used.\n",
    "- Alternative hypothesis: the average packing speed of the new machine is higher than the one of the machine currently used.\n",
    "- It is a one-tailed test.\n",
    "- Level of significance: 0.05"
   ]
  },
  {
   "cell_type": "code",
   "execution_count": 1,
   "id": "e5d42f17",
   "metadata": {},
   "outputs": [],
   "source": [
    "import math\n",
    "import numpy as np\n",
    "from scipy.stats import ttest_ind\n",
    "from scipy.stats import ttest_ind_from_stats"
   ]
  },
  {
   "cell_type": "code",
   "execution_count": 2,
   "id": "7bac285b",
   "metadata": {},
   "outputs": [
    {
     "name": "stdout",
     "output_type": "stream",
     "text": [
      "\n",
      "The statistics of the old machine sample are:\n",
      "size = 10\n",
      "mean = 43.23\n",
      "standard deviation = 0.75\n",
      "degrees of freedom = 9\n",
      "\n",
      "\n",
      "The statistics of the new machine sample are:\n",
      "size = 10\n",
      "mean = 42.14\n",
      "standard deviation = 0.68\n",
      "degrees of freedom = 9\n",
      "\n"
     ]
    }
   ],
   "source": [
    "old_machine = [42.7, 43.6, 43.8, 43.3, 42.5, 43.5, 43.1, 41.7, 44, 44.1]\n",
    "new_machine = [42.1, 41, 41.3, 41.8, 42.4, 42.8, 43.2, 42.3, 41.8, 42.7]\n",
    "\n",
    "old_n = len(old_machine)\n",
    "old_mean = np.mean(old_machine)\n",
    "old_std = np.std(old_machine, ddof=1) # ddof=1 to calculate the sample's std, instead of the population's (default) \n",
    "old_dof = old_n - 1\n",
    "\n",
    "new_n = len(new_machine)\n",
    "new_mean = np.mean(new_machine)\n",
    "new_std = np.std(new_machine, ddof=1) # ddof=1 to calculate the sample's std, instead of the population's (default) \n",
    "new_dof = new_n - 1\n",
    "\n",
    "print(f\"\"\"\n",
    "The statistics of the old machine sample are:\n",
    "size = {old_n}\n",
    "mean = {round(old_mean, 2)}\n",
    "standard deviation = {round(old_std, 2)}\n",
    "degrees of freedom = {old_dof}\n",
    "\n",
    "\n",
    "The statistics of the new machine sample are:\n",
    "size = {new_n}\n",
    "mean = {new_mean}\n",
    "standard deviation = {round(new_std, 2)}\n",
    "degrees of freedom = {new_dof}\n",
    "\"\"\")"
   ]
  },
  {
   "cell_type": "code",
   "execution_count": 3,
   "id": "4e4b27f3",
   "metadata": {},
   "outputs": [
    {
     "data": {
      "text/plain": [
       "3.3972307061176026"
      ]
     },
     "execution_count": 3,
     "metadata": {},
     "output_type": "execute_result"
    }
   ],
   "source": [
    "dof_old_new = old_dof + new_dof\n",
    "sp = np.sqrt(((old_dof * old_std**2) + (new_dof * new_std**2)) / dof_old_new)\n",
    "ttest = (old_mean - new_mean) / (sp * np.sqrt(1/old_n + 1/new_n))\n",
    "ttest"
   ]
  },
  {
   "cell_type": "code",
   "execution_count": 4,
   "id": "2c80be1f",
   "metadata": {},
   "outputs": [
    {
     "data": {
      "text/plain": [
       "Ttest_indResult(statistic=3.3972307061176026, pvalue=0.0032111425007745158)"
      ]
     },
     "execution_count": 4,
     "metadata": {},
     "output_type": "execute_result"
    }
   ],
   "source": [
    "ttest_ind(old_machine, new_machine)"
   ]
  },
  {
   "cell_type": "code",
   "execution_count": 5,
   "id": "b823296e",
   "metadata": {},
   "outputs": [
    {
     "data": {
      "text/plain": [
       "Ttest_indResult(statistic=3.3972307061176026, pvalue=0.0032111425007745158)"
      ]
     },
     "execution_count": 5,
     "metadata": {},
     "output_type": "execute_result"
    }
   ],
   "source": [
    "ttest_ind_from_stats(old_mean, old_std, old_n, new_mean, new_std, new_n)"
   ]
  },
  {
   "cell_type": "markdown",
   "id": "9adbd040",
   "metadata": {},
   "source": [
    "The critical value for a one-tailed test, alpha = 0.05 and 18 degrees of freedom is 1.7341 <br>\n",
    "https://www.easycalculation.com/statistics/t-distribution-critical-value-table.php <br>\n",
    "Since the statistic is higher than the critical value and the p-value is lower than alpha, we can conclude that the new machine is faster than the old one, with a confidence level of 95%."
   ]
  },
  {
   "cell_type": "code",
   "execution_count": null,
   "id": "cf170ea8",
   "metadata": {},
   "outputs": [],
   "source": []
  }
 ],
 "metadata": {
  "kernelspec": {
   "display_name": "Python 3 (ipykernel)",
   "language": "python",
   "name": "python3"
  },
  "language_info": {
   "codemirror_mode": {
    "name": "ipython",
    "version": 3
   },
   "file_extension": ".py",
   "mimetype": "text/x-python",
   "name": "python",
   "nbconvert_exporter": "python",
   "pygments_lexer": "ipython3",
   "version": "3.9.13"
  }
 },
 "nbformat": 4,
 "nbformat_minor": 5
}
